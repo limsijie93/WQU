{
  "nbformat": 4,
  "nbformat_minor": 0,
  "metadata": {
    "kernelspec": {
      "display_name": "Python 3",
      "language": "python",
      "name": "python3"
    },
    "language_info": {
      "codemirror_mode": {
        "name": "ipython",
        "version": 3
      },
      "file_extension": ".py",
      "mimetype": "text/x-python",
      "name": "python",
      "nbconvert_exporter": "python",
      "pygments_lexer": "ipython3",
      "version": "3.6.6"
    },
    "colab": {
      "name": "PCA Assignment.ipynb",
      "provenance": [],
      "collapsed_sections": [
        "U77Dk-C-MwQ8"
      ]
    },
    "widgets": {
      "application/vnd.jupyter.widget-state+json": {
        "064abacfae5743459215d88812cb96d7": {
          "model_module": "@jupyter-widgets/controls",
          "model_name": "VBoxModel",
          "state": {
            "_view_name": "VBoxView",
            "_dom_classes": [
              "widget-interact"
            ],
            "_model_name": "VBoxModel",
            "_view_module": "@jupyter-widgets/controls",
            "_model_module_version": "1.5.0",
            "_view_count": null,
            "_view_module_version": "1.5.0",
            "box_style": "",
            "layout": "IPY_MODEL_27659c63a6404ddbafb6b253045d79b5",
            "_model_module": "@jupyter-widgets/controls",
            "children": [
              "IPY_MODEL_566d92c477eb45c59635f73f6f526823",
              "IPY_MODEL_a9e60466b6684aaaac754bbf94cdf820"
            ]
          }
        },
        "27659c63a6404ddbafb6b253045d79b5": {
          "model_module": "@jupyter-widgets/base",
          "model_name": "LayoutModel",
          "state": {
            "_view_name": "LayoutView",
            "grid_template_rows": null,
            "right": null,
            "justify_content": null,
            "_view_module": "@jupyter-widgets/base",
            "overflow": null,
            "_model_module_version": "1.2.0",
            "_view_count": null,
            "flex_flow": null,
            "width": null,
            "min_width": null,
            "border": null,
            "align_items": null,
            "bottom": null,
            "_model_module": "@jupyter-widgets/base",
            "top": null,
            "grid_column": null,
            "overflow_y": null,
            "overflow_x": null,
            "grid_auto_flow": null,
            "grid_area": null,
            "grid_template_columns": null,
            "flex": null,
            "_model_name": "LayoutModel",
            "justify_items": null,
            "grid_row": null,
            "max_height": null,
            "align_content": null,
            "visibility": null,
            "align_self": null,
            "height": null,
            "min_height": null,
            "padding": null,
            "grid_auto_rows": null,
            "grid_gap": null,
            "max_width": null,
            "order": null,
            "_view_module_version": "1.2.0",
            "grid_template_areas": null,
            "object_position": null,
            "object_fit": null,
            "grid_auto_columns": null,
            "margin": null,
            "display": null,
            "left": null
          }
        },
        "566d92c477eb45c59635f73f6f526823": {
          "model_module": "@jupyter-widgets/controls",
          "model_name": "IntSliderModel",
          "state": {
            "_view_name": "IntSliderView",
            "style": "IPY_MODEL_98b3f363ecbe439b975e0e0a6a24ee61",
            "_dom_classes": [],
            "description": "n",
            "step": 1,
            "_model_name": "IntSliderModel",
            "orientation": "horizontal",
            "max": 408,
            "_view_module": "@jupyter-widgets/controls",
            "_model_module_version": "1.5.0",
            "value": 0,
            "_view_count": null,
            "disabled": false,
            "_view_module_version": "1.5.0",
            "min": 0,
            "continuous_update": true,
            "readout_format": "d",
            "description_tooltip": null,
            "readout": true,
            "_model_module": "@jupyter-widgets/controls",
            "layout": "IPY_MODEL_de9fd01c2bae4c589b4d973589de75cc"
          }
        },
        "a9e60466b6684aaaac754bbf94cdf820": {
          "model_module": "@jupyter-widgets/output",
          "model_name": "OutputModel",
          "state": {
            "_view_name": "OutputView",
            "msg_id": "",
            "_dom_classes": [],
            "_model_name": "OutputModel",
            "outputs": [
              {
                "output_type": "display_data",
                "metadata": {
                  "tags": [],
                  "needs_background": "light"
                },
                "image/png": "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\n",
                "text/plain": "<Figure size 432x288 with 1 Axes>"
              }
            ],
            "_view_module": "@jupyter-widgets/output",
            "_model_module_version": "1.0.0",
            "_view_count": null,
            "_view_module_version": "1.0.0",
            "layout": "IPY_MODEL_8ded936084a24587b3666068783720f3",
            "_model_module": "@jupyter-widgets/output"
          }
        },
        "98b3f363ecbe439b975e0e0a6a24ee61": {
          "model_module": "@jupyter-widgets/controls",
          "model_name": "SliderStyleModel",
          "state": {
            "_view_name": "StyleView",
            "handle_color": null,
            "_model_name": "SliderStyleModel",
            "description_width": "",
            "_view_module": "@jupyter-widgets/base",
            "_model_module_version": "1.5.0",
            "_view_count": null,
            "_view_module_version": "1.2.0",
            "_model_module": "@jupyter-widgets/controls"
          }
        },
        "de9fd01c2bae4c589b4d973589de75cc": {
          "model_module": "@jupyter-widgets/base",
          "model_name": "LayoutModel",
          "state": {
            "_view_name": "LayoutView",
            "grid_template_rows": null,
            "right": null,
            "justify_content": null,
            "_view_module": "@jupyter-widgets/base",
            "overflow": null,
            "_model_module_version": "1.2.0",
            "_view_count": null,
            "flex_flow": null,
            "width": null,
            "min_width": null,
            "border": null,
            "align_items": null,
            "bottom": null,
            "_model_module": "@jupyter-widgets/base",
            "top": null,
            "grid_column": null,
            "overflow_y": null,
            "overflow_x": null,
            "grid_auto_flow": null,
            "grid_area": null,
            "grid_template_columns": null,
            "flex": null,
            "_model_name": "LayoutModel",
            "justify_items": null,
            "grid_row": null,
            "max_height": null,
            "align_content": null,
            "visibility": null,
            "align_self": null,
            "height": null,
            "min_height": null,
            "padding": null,
            "grid_auto_rows": null,
            "grid_gap": null,
            "max_width": null,
            "order": null,
            "_view_module_version": "1.2.0",
            "grid_template_areas": null,
            "object_position": null,
            "object_fit": null,
            "grid_auto_columns": null,
            "margin": null,
            "display": null,
            "left": null
          }
        },
        "8ded936084a24587b3666068783720f3": {
          "model_module": "@jupyter-widgets/base",
          "model_name": "LayoutModel",
          "state": {
            "_view_name": "LayoutView",
            "grid_template_rows": null,
            "right": null,
            "justify_content": null,
            "_view_module": "@jupyter-widgets/base",
            "overflow": null,
            "_model_module_version": "1.2.0",
            "_view_count": null,
            "flex_flow": null,
            "width": null,
            "min_width": null,
            "border": null,
            "align_items": null,
            "bottom": null,
            "_model_module": "@jupyter-widgets/base",
            "top": null,
            "grid_column": null,
            "overflow_y": null,
            "overflow_x": null,
            "grid_auto_flow": null,
            "grid_area": null,
            "grid_template_columns": null,
            "flex": null,
            "_model_name": "LayoutModel",
            "justify_items": null,
            "grid_row": null,
            "max_height": null,
            "align_content": null,
            "visibility": null,
            "align_self": null,
            "height": null,
            "min_height": null,
            "padding": null,
            "grid_auto_rows": null,
            "grid_gap": null,
            "max_width": null,
            "order": null,
            "_view_module_version": "1.2.0",
            "grid_template_areas": null,
            "object_position": null,
            "object_fit": null,
            "grid_auto_columns": null,
            "margin": null,
            "display": null,
            "left": null
          }
        },
        "37dde5ce0bc74ca187277b2d4011386c": {
          "model_module": "@jupyter-widgets/controls",
          "model_name": "VBoxModel",
          "state": {
            "_view_name": "VBoxView",
            "_dom_classes": [
              "widget-interact"
            ],
            "_model_name": "VBoxModel",
            "_view_module": "@jupyter-widgets/controls",
            "_model_module_version": "1.5.0",
            "_view_count": null,
            "_view_module_version": "1.5.0",
            "box_style": "",
            "layout": "IPY_MODEL_775cdcd354984cc1833434d5e6282c85",
            "_model_module": "@jupyter-widgets/controls",
            "children": [
              "IPY_MODEL_94894feab4934b22a7600381bfc3b14a",
              "IPY_MODEL_9d34baaed5214e1db6785b23d9af04b9"
            ]
          }
        },
        "775cdcd354984cc1833434d5e6282c85": {
          "model_module": "@jupyter-widgets/base",
          "model_name": "LayoutModel",
          "state": {
            "_view_name": "LayoutView",
            "grid_template_rows": null,
            "right": null,
            "justify_content": null,
            "_view_module": "@jupyter-widgets/base",
            "overflow": null,
            "_model_module_version": "1.2.0",
            "_view_count": null,
            "flex_flow": null,
            "width": null,
            "min_width": null,
            "border": null,
            "align_items": null,
            "bottom": null,
            "_model_module": "@jupyter-widgets/base",
            "top": null,
            "grid_column": null,
            "overflow_y": null,
            "overflow_x": null,
            "grid_auto_flow": null,
            "grid_area": null,
            "grid_template_columns": null,
            "flex": null,
            "_model_name": "LayoutModel",
            "justify_items": null,
            "grid_row": null,
            "max_height": null,
            "align_content": null,
            "visibility": null,
            "align_self": null,
            "height": null,
            "min_height": null,
            "padding": null,
            "grid_auto_rows": null,
            "grid_gap": null,
            "max_width": null,
            "order": null,
            "_view_module_version": "1.2.0",
            "grid_template_areas": null,
            "object_position": null,
            "object_fit": null,
            "grid_auto_columns": null,
            "margin": null,
            "display": null,
            "left": null
          }
        },
        "94894feab4934b22a7600381bfc3b14a": {
          "model_module": "@jupyter-widgets/controls",
          "model_name": "IntSliderModel",
          "state": {
            "_view_name": "IntSliderView",
            "style": "IPY_MODEL_4219bc910c7040e5a6a5919863e9ad39",
            "_dom_classes": [],
            "description": "n",
            "step": 1,
            "_model_name": "IntSliderModel",
            "orientation": "horizontal",
            "max": 408,
            "_view_module": "@jupyter-widgets/controls",
            "_model_module_version": "1.5.0",
            "value": 0,
            "_view_count": null,
            "disabled": false,
            "_view_module_version": "1.5.0",
            "min": 0,
            "continuous_update": true,
            "readout_format": "d",
            "description_tooltip": null,
            "readout": true,
            "_model_module": "@jupyter-widgets/controls",
            "layout": "IPY_MODEL_1f14b3ac786d484ba6c5f46ba8ed0fea"
          }
        },
        "9d34baaed5214e1db6785b23d9af04b9": {
          "model_module": "@jupyter-widgets/output",
          "model_name": "OutputModel",
          "state": {
            "_view_name": "OutputView",
            "msg_id": "",
            "_dom_classes": [],
            "_model_name": "OutputModel",
            "outputs": [
              {
                "output_type": "display_data",
                "metadata": {
                  "tags": [],
                  "needs_background": "light"
                },
                "image/png": "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\n",
                "text/plain": "<Figure size 432x288 with 1 Axes>"
              }
            ],
            "_view_module": "@jupyter-widgets/output",
            "_model_module_version": "1.0.0",
            "_view_count": null,
            "_view_module_version": "1.0.0",
            "layout": "IPY_MODEL_ceab8b3a746842029faf4f8ad79a3d23",
            "_model_module": "@jupyter-widgets/output"
          }
        },
        "4219bc910c7040e5a6a5919863e9ad39": {
          "model_module": "@jupyter-widgets/controls",
          "model_name": "SliderStyleModel",
          "state": {
            "_view_name": "StyleView",
            "handle_color": null,
            "_model_name": "SliderStyleModel",
            "description_width": "",
            "_view_module": "@jupyter-widgets/base",
            "_model_module_version": "1.5.0",
            "_view_count": null,
            "_view_module_version": "1.2.0",
            "_model_module": "@jupyter-widgets/controls"
          }
        },
        "1f14b3ac786d484ba6c5f46ba8ed0fea": {
          "model_module": "@jupyter-widgets/base",
          "model_name": "LayoutModel",
          "state": {
            "_view_name": "LayoutView",
            "grid_template_rows": null,
            "right": null,
            "justify_content": null,
            "_view_module": "@jupyter-widgets/base",
            "overflow": null,
            "_model_module_version": "1.2.0",
            "_view_count": null,
            "flex_flow": null,
            "width": null,
            "min_width": null,
            "border": null,
            "align_items": null,
            "bottom": null,
            "_model_module": "@jupyter-widgets/base",
            "top": null,
            "grid_column": null,
            "overflow_y": null,
            "overflow_x": null,
            "grid_auto_flow": null,
            "grid_area": null,
            "grid_template_columns": null,
            "flex": null,
            "_model_name": "LayoutModel",
            "justify_items": null,
            "grid_row": null,
            "max_height": null,
            "align_content": null,
            "visibility": null,
            "align_self": null,
            "height": null,
            "min_height": null,
            "padding": null,
            "grid_auto_rows": null,
            "grid_gap": null,
            "max_width": null,
            "order": null,
            "_view_module_version": "1.2.0",
            "grid_template_areas": null,
            "object_position": null,
            "object_fit": null,
            "grid_auto_columns": null,
            "margin": null,
            "display": null,
            "left": null
          }
        },
        "ceab8b3a746842029faf4f8ad79a3d23": {
          "model_module": "@jupyter-widgets/base",
          "model_name": "LayoutModel",
          "state": {
            "_view_name": "LayoutView",
            "grid_template_rows": null,
            "right": null,
            "justify_content": null,
            "_view_module": "@jupyter-widgets/base",
            "overflow": null,
            "_model_module_version": "1.2.0",
            "_view_count": null,
            "flex_flow": null,
            "width": null,
            "min_width": null,
            "border": null,
            "align_items": null,
            "bottom": null,
            "_model_module": "@jupyter-widgets/base",
            "top": null,
            "grid_column": null,
            "overflow_y": null,
            "overflow_x": null,
            "grid_auto_flow": null,
            "grid_area": null,
            "grid_template_columns": null,
            "flex": null,
            "_model_name": "LayoutModel",
            "justify_items": null,
            "grid_row": null,
            "max_height": null,
            "align_content": null,
            "visibility": null,
            "align_self": null,
            "height": null,
            "min_height": null,
            "padding": null,
            "grid_auto_rows": null,
            "grid_gap": null,
            "max_width": null,
            "order": null,
            "_view_module_version": "1.2.0",
            "grid_template_areas": null,
            "object_position": null,
            "object_fit": null,
            "grid_auto_columns": null,
            "margin": null,
            "display": null,
            "left": null
          }
        }
      }
    }
  },
  "cells": [
    {
      "cell_type": "markdown",
      "metadata": {
        "id": "K1-BC_WJStsw",
        "colab_type": "text"
      },
      "source": [
        "# Peer Review Assignment 2 - Part I\n",
        "\n",
        "Name: Lim Si Jie\n",
        "\n",
        "Date: 08/05/2020"
      ]
    },
    {
      "cell_type": "markdown",
      "metadata": {
        "id": "k0qARv-7Stsy",
        "colab_type": "text"
      },
      "source": [
        "# Instructions\n",
        "\n",
        "* Work through the notebook, answer all questions, and do all problems\n",
        "* You are allowed to consult the internet, and discuss on the module forum\n",
        "* Your answers and solutions to the problems should be added to this notebook \n",
        "* Submit your final work as an html file\n",
        "* Note that the solutions to the problems used python version 3.6.4.  \n",
        "\n",
        "# Marking Scheme (Theoretical Questions)\n",
        "\n",
        "* All questions are marked out of 3.\n",
        "* No valid answer: 0 marks\n",
        "* Demonstration of grasp of basic idea: 1 mark\n",
        "* 'Perfect' answer: 3 marks\n",
        "\n",
        "# Marking Scheme (Practical Problems)\n",
        "* All problems are marked out of 5.\n",
        "* No valid answer: 0 marks\n",
        "* Demonstration of grasp of basic idea: 2 mark\n",
        "* Working code: 5 marks"
      ]
    },
    {
      "cell_type": "markdown",
      "metadata": {
        "id": "gczpV_H6Stsz",
        "colab_type": "text"
      },
      "source": [
        "---"
      ]
    },
    {
      "cell_type": "markdown",
      "metadata": {
        "id": "U77Dk-C-MwQ8",
        "colab_type": "text"
      },
      "source": [
        "## Mount Google Drive to VM"
      ]
    },
    {
      "cell_type": "code",
      "metadata": {
        "id": "FYuoc9UbMxpR",
        "colab_type": "code",
        "colab": {
          "base_uri": "https://localhost:8080/",
          "height": 0
        },
        "outputId": "9c9a3c20-a376-4902-bb56-b8afc8c50e6d"
      },
      "source": [
        "from google.colab import drive\n",
        "drive.mount('/gdrive')"
      ],
      "execution_count": 1,
      "outputs": [
        {
          "output_type": "stream",
          "text": [
            "Drive already mounted at /gdrive; to attempt to forcibly remount, call drive.mount(\"/gdrive\", force_remount=True).\n"
          ],
          "name": "stdout"
        }
      ]
    },
    {
      "cell_type": "code",
      "metadata": {
        "id": "0nIPBMbDMxoq",
        "colab_type": "code",
        "colab": {
          "base_uri": "https://localhost:8080/",
          "height": 0
        },
        "outputId": "ddfa4d45-1b7d-4194-dd78-6c67ccf4627d"
      },
      "source": [
        "with open('/gdrive/My Drive/foo.txt', 'w') as f:\n",
        "  f.write('Hello Google Drive!')\n",
        "!cat '/gdrive/My Drive/foo.txt'"
      ],
      "execution_count": 2,
      "outputs": [
        {
          "output_type": "stream",
          "text": [
            "Hello Google Drive!"
          ],
          "name": "stdout"
        }
      ]
    },
    {
      "cell_type": "markdown",
      "metadata": {
        "id": "1-nKh6mbSts0",
        "colab_type": "text"
      },
      "source": [
        "# Principal Component Analysis (PCA)\n",
        "In this exercise you will experiment with PCA. This will also be your first introduction to the scikit-learn library. For more information about the PCA module in the scikit-learn library, go to http://scikit-learn.org/stable/modules/decomposition.html#decompositions.\n",
        "\n",
        "One of the basic assumptions of machine learning is that the high dimensional data we observe, actually occupies a much lower dimensional manifold. A good description of the low dimensional manifold is highly desirable. In fact, this is exactly what we try to accomplish when we manufacture *features* for our system. In general the manifolds will be nonlinear; PCA is an efficient technique for identifying linear, low dimensional manifolds. \n",
        "\n",
        "This idea was exploited when the so-called eigenface approach for facial recognition was developed. Any image lives in a high dimensional space. If the image is $m\\times n$ then the dimension of the space is $mn$. This is huge for even modest resolution images. Since we are, for this application, only interested in facial images, the question arises whether the facial images occupy a lower dimensional subspace of the huge image space. If that is the case, the next question is how to describe that space, i.e. how do we extract features suitable for describing the space. \n",
        "\n",
        "We'll briefly explore these idea below."
      ]
    },
    {
      "cell_type": "markdown",
      "metadata": {
        "id": "FIlhzb0PSts1",
        "colab_type": "text"
      },
      "source": [
        "## Import packages"
      ]
    },
    {
      "cell_type": "code",
      "metadata": {
        "id": "2l1rA0aCSts2",
        "colab_type": "code",
        "colab": {}
      },
      "source": [
        "%matplotlib inline\n",
        "%load_ext autoreload\n",
        "%autoreload 2\n",
        "\n",
        "import os\n",
        "import numpy as np\n",
        "from matplotlib import pylab as plt\n",
        "from sklearn.decomposition import PCA\n",
        "\n",
        "# Import different modules for using with the notebook\n",
        "from IPython.display import display\n",
        "from IPython.display import Image\n",
        "from IPython.display import HTML"
      ],
      "execution_count": 0,
      "outputs": []
    },
    {
      "cell_type": "markdown",
      "metadata": {
        "id": "h7I_ICtFSts7",
        "colab_type": "text"
      },
      "source": [
        "## Simple example"
      ]
    },
    {
      "cell_type": "code",
      "metadata": {
        "id": "x-R2iX6HSts8",
        "colab_type": "code",
        "outputId": "65e0d5c3-6f3d-4df5-d48c-106f12cbb79f",
        "colab": {
          "base_uri": "https://localhost:8080/",
          "height": 52
        }
      },
      "source": [
        "# Create synthetic data\n",
        "X = np.array([[-1, -1], [-2, -1], [-3, -2], [1, 1], [2, 1], [3, 2]])\n",
        "\n",
        "# Instantiate and fit PCA model\n",
        "pca = PCA(n_components=2)\n",
        "pca.fit(X)\n",
        "\n",
        "print(\"Percentage of variance explained by each of the selected components:\")\n",
        "print(pca.explained_variance_ratio_) "
      ],
      "execution_count": 4,
      "outputs": [
        {
          "output_type": "stream",
          "text": [
            "Percentage of variance explained by each of the selected components:\n",
            "[0.99244289 0.00755711]\n"
          ],
          "name": "stdout"
        }
      ]
    },
    {
      "cell_type": "markdown",
      "metadata": {
        "id": "MVHTBCcVSttB",
        "colab_type": "text"
      },
      "source": [
        "## Iris data set\n",
        "The previous was just a warm-up. We now turn to the iris data set. The idea is to reproduce the image in the scikit-image website. This is one of the famous data sets widely used in machine learning. For more information, see  http://archive.ics.uci.edu/ml/datasets/Iris\n",
        "\n",
        "\n",
        "The iris data set is imported using load_iris2.py. This converts the class labels to numbers. Since there are 3 classes, the classes are now labelled, 0, 1, and 2.\n"
      ]
    },
    {
      "cell_type": "code",
      "metadata": {
        "id": "NVysyEQJMs7j",
        "colab_type": "code",
        "colab": {}
      },
      "source": [
        "root = '/gdrive/My Drive/Colab Notebooks/Study/WQU/ML in Finance/CRT_2/PCA Assignment'\n",
        "os.chdir(root)"
      ],
      "execution_count": 0,
      "outputs": []
    },
    {
      "cell_type": "code",
      "metadata": {
        "id": "yQUpO2cgSttC",
        "colab_type": "code",
        "colab": {}
      },
      "source": [
        "# Load data\n",
        "import load_iris as ld\n",
        "data, classes, labels = ld.load_iris2('./data/iris/iris_train.txt')"
      ],
      "execution_count": 0,
      "outputs": []
    },
    {
      "cell_type": "markdown",
      "metadata": {
        "id": "WGqnjN6dSttH",
        "colab_type": "text"
      },
      "source": [
        "Fit the data with PCA.\n",
        "\n",
        "First fit with 3 principal components in order to investigate how much of the variance is explained by the  components.\n",
        "\n",
        "---\n",
        "\n",
        "### Question 1 (3 marks):\n",
        "Explain the meaning of `explained variance`, i.e. explain the meaning of the graph below.."
      ]
    },
    {
      "cell_type": "markdown",
      "metadata": {
        "id": "4d3Xl-qxSttI",
        "colab_type": "text"
      },
      "source": [
        "### Answer:\n",
        "\n",
        "Explained variance refers to the proportion of the model's total variance that is explained by factors that are used in the model and isn't due to error variance. \n",
        "\n",
        "Example:\n",
        "Let's say there is a model that predicts the likelihood of death based on two factors: \n",
        "1. Person's daily exercise duration\n",
        "2. Whether he is a smoker/non-smoker. \n",
        "\n",
        "Explained variance in this model is the proportion of the variance among predicted likelihood of death that is attributable to the two factors."
      ]
    },
    {
      "cell_type": "code",
      "metadata": {
        "id": "cptctygaSttJ",
        "colab_type": "code",
        "outputId": "4e751a24-15fe-4798-f65e-b84fa706861d",
        "colab": {
          "base_uri": "https://localhost:8080/",
          "height": 294
        }
      },
      "source": [
        "# Fit PCA\n",
        "pca = PCA(n_components=3)\n",
        "pca.fit(data)\n",
        "\n",
        "# Plot\n",
        "plt.plot(range(0, 3), pca.explained_variance_ratio_)\n",
        "plt.ylabel('Explained Variance')\n",
        "plt.xlabel('Principal Components')\n",
        "plt.title('Explained Variance Ratio')\n",
        "plt.show()"
      ],
      "execution_count": 7,
      "outputs": [
        {
          "output_type": "display_data",
          "data": {
            "image/png": "[encoded data removed]",
            "text/plain": [
              "<Figure size 432x288 with 1 Axes>"
            ]
          },
          "metadata": {
            "tags": [],
            "needs_background": "light"
          }
        }
      ]
    },
    {
      "cell_type": "markdown",
      "metadata": {
        "id": "ZxUvT6fcSttN",
        "colab_type": "text"
      },
      "source": [
        "---\n",
        "# Projecting the data.\n",
        "\n",
        "### Problem 1: (**5 marks**)\n",
        "\n",
        "Project the data onto the first two principal components. Since you have class labels you can plot the 2-dimensional representation of the 3 classes in different colours.  The idea is to see how much class separation is obtained by projecting onto the first two principal components.\n",
        "\n",
        "You should see something like the following: (**You need to provide the code in the following code cell**)"
      ]
    },
    {
      "cell_type": "code",
      "metadata": {
        "id": "AI4ej1z6SttN",
        "colab_type": "code",
        "colab": {}
      },
      "source": [
        "# Insert code to produce the image below\n",
        "import pandas as pd\n",
        "\n",
        "pca = PCA(n_components=2)\n",
        "principalComponents = pca.fit_transform(data)\n",
        "\n",
        "principalDf = pd.DataFrame(data = principalComponents, columns = ['principal component 1', 'principal component 2'])\n",
        "finalDf = pd.concat([principalDf, pd.DataFrame(labels)], axis = 1)"
      ],
      "execution_count": 0,
      "outputs": []
    },
    {
      "cell_type": "code",
      "metadata": {
        "id": "hH9CHtpSO4EL",
        "colab_type": "code",
        "colab": {
          "base_uri": "https://localhost:8080/",
          "height": 293
        },
        "outputId": "46a055c8-4dae-4bec-b775-ad2134e6563d"
      },
      "source": [
        "fig = plt.figure(figsize = (6, 4))\n",
        "ax = fig.add_subplot(1,1,1) \n",
        "ax.set_xlabel('Principal Component 1', fontsize = 10)\n",
        "ax.set_ylabel('Principal Component 2', fontsize = 10)\n",
        "ax.set_title('The projection onto 2 PCA components', fontsize = 10)\n",
        "\n",
        "targets = set(finalDf[0])\n",
        "markers = [\"*\", \"o\", \"+\"]\n",
        "colors = ['red', 'green', 'black']\n",
        "\n",
        "for target, marker, color in zip(targets, markers, colors):\n",
        "    indicesToKeep = finalDf[0] == target\n",
        "    ax.scatter(finalDf.loc[indicesToKeep, 'principal component 1'], \\\n",
        "               finalDf.loc[indicesToKeep, 'principal component 2'], \\\n",
        "               marker=marker, color=color)"
      ],
      "execution_count": 9,
      "outputs": [
        {
          "output_type": "display_data",
          "data": {
            "image/png": "[encoded data removed]",
            "text/plain": [
              "<Figure size 432x288 with 1 Axes>"
            ]
          },
          "metadata": {
            "tags": [],
            "needs_background": "light"
          }
        }
      ]
    },
    {
      "cell_type": "code",
      "metadata": {
        "id": "a4qK892WSttR",
        "colab_type": "code",
        "outputId": "f68341c9-d357-4a22-e253-cf8c9703b155",
        "colab": {
          "base_uri": "https://localhost:8080/",
          "height": 273
        }
      },
      "source": [
        "display(Image(filename='./Iris_PCA.png'))"
      ],
      "execution_count": 10,
      "outputs": [
        {
          "output_type": "display_data",
          "data": {
            "image/png": "[encoded data removed]",
            "text/plain": [
              "<IPython.core.display.Image object>"
            ]
          },
          "metadata": {
            "tags": []
          }
        }
      ]
    },
    {
      "cell_type": "markdown",
      "metadata": {
        "id": "7Nn-_2RGSttU",
        "colab_type": "text"
      },
      "source": [
        "---\n",
        "\n",
        "## Face recognition\n",
        "\n",
        "A few years ago facial recognition using the so-called eigenfaces was very much in fashion, see for example https://en.wikipedia.org/wiki/Eigenface. \n",
        "\n",
        "\n",
        "We now briefly explore the main ideas behind the eigenface approach using the Olivetti face data base (provided to you). \n",
        "\n",
        "\n",
        "First import  all png files from all the directories inside a specified directory. Each  facial image is then converted to a flat array.\n"
      ]
    },
    {
      "cell_type": "code",
      "metadata": {
        "id": "mtitQd14SttV",
        "colab_type": "code",
        "colab": {}
      },
      "source": [
        "# Import all faces as a flattened array\n",
        "from skimage import io\n",
        "ic = io.ImageCollection('./data/att_faces/*/*.png')\n",
        "ic = np.array(ic)\n",
        "ic_flat = ic.reshape((len(ic), -1))\n",
        "\n",
        "# Shape of array\n",
        "number, m, n = ic.shape  "
      ],
      "execution_count": 0,
      "outputs": []
    },
    {
      "cell_type": "markdown",
      "metadata": {
        "id": "9YDLhjPHSttY",
        "colab_type": "text"
      },
      "source": [
        "### Viewing the faces\n",
        "Import an image viewer that allows you to step view all the loaded images using iPython widgets."
      ]
    },
    {
      "cell_type": "code",
      "metadata": {
        "id": "jPRgLHkaSttZ",
        "colab_type": "code",
        "outputId": "d1400ff3-184b-480e-922b-f4552cf2695b",
        "colab": {
          "base_uri": "https://localhost:8080/",
          "height": 355,
          "referenced_widgets": [
            "064abacfae5743459215d88812cb96d7",
            "27659c63a6404ddbafb6b253045d79b5",
            "566d92c477eb45c59635f73f6f526823",
            "a9e60466b6684aaaac754bbf94cdf820",
            "98b3f363ecbe439b975e0e0a6a24ee61",
            "de9fd01c2bae4c589b4d973589de75cc",
            "8ded936084a24587b3666068783720f3"
          ]
        }
      },
      "source": [
        "from IPython.html.widgets import interact\n",
        "\n",
        "def view_image(n=0):\n",
        "    plt.imshow(ic[n], cmap='gray', interpolation='nearest')\n",
        "    plt.show()\n",
        "\n",
        "w = interact(view_image, n=(0, len(ic)-1))"
      ],
      "execution_count": 12,
      "outputs": [
        {
          "output_type": "stream",
          "text": [
            "/usr/local/lib/python3.6/dist-packages/IPython/html.py:14: ShimWarning: The `IPython.html` package has been deprecated since IPython 4.0. You should import from `notebook` instead. `IPython.html.widgets` has moved to `ipywidgets`.\n",
            "  \"`IPython.html.widgets` has moved to `ipywidgets`.\", ShimWarning)\n"
          ],
          "name": "stderr"
        },
        {
          "output_type": "display_data",
          "data": {
            "application/vnd.jupyter.widget-view+json": {
              "model_id": "064abacfae5743459215d88812cb96d7",
              "version_minor": 0,
              "version_major": 2
            },
            "text/plain": [
              "interactive(children=(IntSlider(value=0, description='n', max=408), Output()), _dom_classes=('widget-interact'…"
            ]
          },
          "metadata": {
            "tags": []
          }
        }
      ]
    },
    {
      "cell_type": "code",
      "metadata": {
        "id": "9kMr7rbLSttc",
        "colab_type": "code",
        "outputId": "22a7002f-462b-4023-acd4-8c4b225a1568",
        "colab": {
          "base_uri": "https://localhost:8080/",
          "height": 52
        }
      },
      "source": [
        "pca = PCA(n_components=200)\n",
        "pca.fit(ic_flat)"
      ],
      "execution_count": 13,
      "outputs": [
        {
          "output_type": "execute_result",
          "data": {
            "text/plain": [
              "PCA(copy=True, iterated_power='auto', n_components=200, random_state=None,\n",
              "    svd_solver='auto', tol=0.0, whiten=False)"
            ]
          },
          "metadata": {
            "tags": []
          },
          "execution_count": 13
        }
      ]
    },
    {
      "cell_type": "markdown",
      "metadata": {
        "id": "u82rQHGmStts",
        "colab_type": "text"
      },
      "source": [
        "## The ratio of the total variance captured by the principal directions.\n",
        "\n",
        "The question arises how many principal components are needed to capture a significant amount of information of a face. For this it is useful to calculate the  ratio of the total variance explained by $n$ components. Since this is such a useful quantity to investigate, scikit-learn provides it for us.\n",
        "\n",
        "\n",
        "Note that the variance drops off very quickly. For something like $n=50$ components a significant proportion of the total variance is already captured. \n",
        "\n",
        "---\n",
        "\n",
        "### Problem 2: (**5 marks**)\n",
        "Plot the explained variance. You should see something like the following:"
      ]
    },
    {
      "cell_type": "code",
      "metadata": {
        "id": "ymODD9c3Sttt",
        "colab_type": "code",
        "colab": {
          "base_uri": "https://localhost:8080/",
          "height": 286
        },
        "outputId": "e7891d2b-0778-4a39-82d2-794e0692122e"
      },
      "source": [
        "# Insert code to produce the image below\n",
        "exp_var = pca.explained_variance_ratio_\n",
        "num_com = range(len(exp_var))\n",
        "\n",
        "fig, ax = plt.subplots(1)\n",
        "ax.plot(num_com, exp_var)\n",
        "ax.set_xlim(0)\n",
        "ax.set_ylim(0, 0.18)"
      ],
      "execution_count": 14,
      "outputs": [
        {
          "output_type": "execute_result",
          "data": {
            "text/plain": [
              "(0.0, 0.18)"
            ]
          },
          "metadata": {
            "tags": []
          },
          "execution_count": 14
        },
        {
          "output_type": "display_data",
          "data": {
            "image/png": "[encoded data removed]",
            "text/plain": [
              "<Figure size 432x288 with 1 Axes>"
            ]
          },
          "metadata": {
            "tags": [],
            "needs_background": "light"
          }
        }
      ]
    },
    {
      "cell_type": "code",
      "metadata": {
        "id": "mRE7_LoeStt0",
        "colab_type": "code",
        "outputId": "c60c378e-7630-423b-edca-ad463754fbcd",
        "colab": {
          "base_uri": "https://localhost:8080/",
          "height": 273
        }
      },
      "source": [
        "display(Image(filename='./Faces_expl_var.png'))"
      ],
      "execution_count": 15,
      "outputs": [
        {
          "output_type": "display_data",
          "data": {
            "image/png": "[encoded data removed]",
            "text/plain": [
              "<IPython.core.display.Image object>"
            ]
          },
          "metadata": {
            "tags": []
          }
        }
      ]
    },
    {
      "cell_type": "markdown",
      "metadata": {
        "id": "89CSAAdpStt9",
        "colab_type": "text"
      },
      "source": [
        "---"
      ]
    },
    {
      "cell_type": "markdown",
      "metadata": {
        "id": "_DMUwjf6Stt-",
        "colab_type": "text"
      },
      "source": [
        "### Projecting the faces onto the eigenfaces.\n",
        "\n",
        "First project all the images onto the 200 eigenfaces defined above. In order to visualise how much is lost, the projected images are projected back onto the original space. It is then reshaped and displayed.\n",
        "\n"
      ]
    },
    {
      "cell_type": "code",
      "metadata": {
        "id": "NOgB_x0FStt-",
        "colab_type": "code",
        "colab": {}
      },
      "source": [
        "pr_ic_flat = pca.transform(ic_flat)\n",
        "\n",
        "back_pr_ic_flat = pca.inverse_transform(pr_ic_flat)"
      ],
      "execution_count": 0,
      "outputs": []
    },
    {
      "cell_type": "markdown",
      "metadata": {
        "id": "mnlzBYPZStuC",
        "colab_type": "text"
      },
      "source": [
        "1. Restore flattened array into original shape.\n",
        "2. View the restored images. \n",
        "\n",
        "Keeping in mind that the dimension of the images are reduced from 10304 to 200, the reconstruction is quite good."
      ]
    },
    {
      "cell_type": "code",
      "metadata": {
        "id": "4Ap_Jr-4StuD",
        "colab_type": "code",
        "outputId": "26c2fdeb-3a55-45da-f547-058593fefadd",
        "colab": {
          "base_uri": "https://localhost:8080/",
          "height": 300,
          "referenced_widgets": [
            "37dde5ce0bc74ca187277b2d4011386c",
            "775cdcd354984cc1833434d5e6282c85",
            "94894feab4934b22a7600381bfc3b14a",
            "9d34baaed5214e1db6785b23d9af04b9",
            "4219bc910c7040e5a6a5919863e9ad39",
            "1f14b3ac786d484ba6c5f46ba8ed0fea",
            "ceab8b3a746842029faf4f8ad79a3d23"
          ]
        }
      },
      "source": [
        "ic_restore = back_pr_ic_flat.reshape((number,m,n))\n",
        "\n",
        "def view_image(n=0):\n",
        "    plt.imshow(ic_restore[n],cmap='gray', interpolation='nearest')\n",
        "    plt.show()\n",
        "\n",
        "w = interact(view_image, n=(0, len(ic)-1))"
      ],
      "execution_count": 17,
      "outputs": [
        {
          "output_type": "display_data",
          "data": {
            "application/vnd.jupyter.widget-view+json": {
              "model_id": "37dde5ce0bc74ca187277b2d4011386c",
              "version_minor": 0,
              "version_major": 2
            },
            "text/plain": [
              "interactive(children=(IntSlider(value=0, description='n', max=408), Output()), _dom_classes=('widget-interact'…"
            ]
          },
          "metadata": {
            "tags": []
          }
        }
      ]
    },
    {
      "cell_type": "markdown",
      "metadata": {
        "id": "MzZ8zsp-StuF",
        "colab_type": "text"
      },
      "source": [
        "## Projecting something else\n",
        "\n",
        "Above we represented faces used to derive the eigenfaces in terms of the the eigenfaces. Not surprisingly the results are quite good. But the real interest is in faces not part of the training set.\n",
        "\n",
        "We now project such a face. See what happens if you try some else's face!\n",
        "First read in the face:"
      ]
    },
    {
      "cell_type": "code",
      "metadata": {
        "id": "gq3fLeMOStuF",
        "colab_type": "code",
        "colab": {}
      },
      "source": [
        "ben = io.ImageCollection('./Ben_bw.png')[0]\n",
        "ben = np.array(ben)"
      ],
      "execution_count": 0,
      "outputs": []
    },
    {
      "cell_type": "markdown",
      "metadata": {
        "id": "i-QVe8CcStuI",
        "colab_type": "text"
      },
      "source": [
        "---\n",
        "### Problem 3: (**5 marks**)\n",
        "\n",
        "Display the image as below"
      ]
    },
    {
      "cell_type": "code",
      "metadata": {
        "id": "2Sa6Bhn2StuJ",
        "colab_type": "code",
        "colab": {
          "base_uri": "https://localhost:8080/",
          "height": 267
        },
        "outputId": "a20e31cf-5e27-4ae9-cec7-3458957a7d0a"
      },
      "source": [
        "# Insert code to produce the image below\n",
        "plt.imshow(ben,cmap='gray', interpolation='nearest')\n",
        "plt.show()"
      ],
      "execution_count": 19,
      "outputs": [
        {
          "output_type": "display_data",
          "data": {
            "image/png": "[encoded data removed]",
            "text/plain": [
              "<Figure size 432x288 with 1 Axes>"
            ]
          },
          "metadata": {
            "tags": [],
            "needs_background": "light"
          }
        }
      ]
    },
    {
      "cell_type": "code",
      "metadata": {
        "id": "Z1q4Gt9gStuM",
        "colab_type": "code",
        "outputId": "6e90695f-56a0-42ef-85fd-d8d1642a2283",
        "colab": {
          "base_uri": "https://localhost:8080/",
          "height": 128
        }
      },
      "source": [
        "display(Image(filename='./Ben_bw.png'))"
      ],
      "execution_count": 20,
      "outputs": [
        {
          "output_type": "display_data",
          "data": {
            "image/png": "[encoded data removed]",
            "text/plain": [
              "<IPython.core.display.Image object>"
            ]
          },
          "metadata": {
            "tags": []
          }
        }
      ]
    },
    {
      "cell_type": "markdown",
      "metadata": {
        "id": "WKCdJ1L8StuO",
        "colab_type": "text"
      },
      "source": [
        "### Problem 4: (**5 Marks**)\n",
        "Flatten the face, project it onto 200 eigenfaces, restore it from the projection, and display. \n",
        "\n",
        "You should see something like:"
      ]
    },
    {
      "cell_type": "code",
      "metadata": {
        "id": "IGRg07JVStuP",
        "colab_type": "code",
        "colab": {
          "base_uri": "https://localhost:8080/",
          "height": 267
        },
        "outputId": "f4a4bfab-a77f-4845-e535-5be57ea31e27"
      },
      "source": [
        "# Insert code to produce the image below\n",
        "ben_flat = ben.reshape(1, -1)\n",
        "pr_ic_flat = pca.transform(ben_flat)\n",
        "back_pr_ic_flat = pca.inverse_transform(pr_ic_flat)\n",
        "\n",
        "ic_restore = back_pr_ic_flat.reshape((m,n))\n",
        "\n",
        "plt.imshow(ic_restore,cmap='gray', interpolation='nearest')\n",
        "plt.show()"
      ],
      "execution_count": 23,
      "outputs": [
        {
          "output_type": "display_data",
          "data": {
            "image/png": "[encoded data removed]",
            "text/plain": [
              "<Figure size 432x288 with 1 Axes>"
            ]
          },
          "metadata": {
            "tags": [],
            "needs_background": "light"
          }
        }
      ]
    },
    {
      "cell_type": "code",
      "metadata": {
        "id": "rRBLnwLbStuR",
        "colab_type": "code",
        "outputId": "76d5e83b-fd78-4f9e-f872-20513b926da9",
        "colab": {
          "base_uri": "https://localhost:8080/",
          "height": 272
        }
      },
      "source": [
        "display(Image(filename='./Ben_recon.png'))"
      ],
      "execution_count": 22,
      "outputs": [
        {
          "output_type": "display_data",
          "data": {
            "image/png": "[encoded data removed]",
            "text/plain": [
              "<IPython.core.display.Image object>"
            ]
          },
          "metadata": {
            "tags": []
          }
        }
      ]
    }
  ]
}