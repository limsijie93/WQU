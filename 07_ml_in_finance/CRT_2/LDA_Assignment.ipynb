{
  "nbformat": 4,
  "nbformat_minor": 0,
  "metadata": {
    "kernelspec": {
      "display_name": "Python 3",
      "language": "python",
      "name": "python3"
    },
    "language_info": {
      "codemirror_mode": {
        "name": "ipython",
        "version": 3
      },
      "file_extension": ".py",
      "mimetype": "text/x-python",
      "name": "python",
      "nbconvert_exporter": "python",
      "pygments_lexer": "ipython3",
      "version": "3.6.6"
    },
    "colab": {
      "name": "LDA Assignment.ipynb",
      "provenance": [],
      "collapsed_sections": []
    }
  },
  "cells": [
    {
      "cell_type": "markdown",
      "metadata": {
        "id": "6uLqSA23OIpX",
        "colab_type": "text"
      },
      "source": [
        "# Peer Review Assignment 2 - Part II\n",
        "\n",
        "Name: Lim Si Jie\n",
        "\n",
        "Date: 08/05/2020\n"
      ]
    },
    {
      "cell_type": "markdown",
      "metadata": {
        "id": "CxzufxKIOIpY",
        "colab_type": "text"
      },
      "source": [
        "## Instructions\n",
        "\n",
        "* Work through the notebook, answer all questions, and do all problems\n",
        "* You are allowed to consult the internet, and discuss on the module forum\n",
        "* Your answers and solutions to the problems should be added to this notebook \n",
        "* Submit your final work as an html file\n",
        "* Note that the solutions to the problems used python version 3.6.4.  \n",
        "\n",
        "## Marking Scheme (Theoretical Questions)\n",
        "* All questions are marked out of 3.\n",
        "* No valid answer: 0 marks\n",
        "* Demonstration of grasp of basic idea: 1 mark\n",
        "* 'Perfect' answer: 3 marks\n",
        "\n",
        "## Marking Scheme (Practical Problems)\n",
        "* All problems are marked out of 5.\n",
        "* No valid answer: 0 marks\n",
        "* Demonstration of grasp of basic idea: 2 mark\n",
        "* Working code: 5 marks\n",
        "---\n"
      ]
    },
    {
      "cell_type": "markdown",
      "metadata": {
        "id": "g_s0REcvPeaE",
        "colab_type": "text"
      },
      "source": [
        "## Mount Google Drive to VM"
      ]
    },
    {
      "cell_type": "code",
      "metadata": {
        "id": "n3L78CiOPfw6",
        "colab_type": "code",
        "outputId": "10e1fc01-c724-462e-d0bd-62ddc221f302",
        "colab": {
          "base_uri": "https://localhost:8080/",
          "height": 34
        }
      },
      "source": [
        "from google.colab import drive\n",
        "drive.mount('/gdrive')"
      ],
      "execution_count": 1,
      "outputs": [
        {
          "output_type": "stream",
          "text": [
            "Drive already mounted at /gdrive; to attempt to forcibly remount, call drive.mount(\"/gdrive\", force_remount=True).\n"
          ],
          "name": "stdout"
        }
      ]
    },
    {
      "cell_type": "code",
      "metadata": {
        "id": "ZYMIBreAPfwX",
        "colab_type": "code",
        "outputId": "654e0060-1004-4898-891b-4a691d1a9fbc",
        "colab": {
          "base_uri": "https://localhost:8080/",
          "height": 34
        }
      },
      "source": [
        "with open('/gdrive/My Drive/foo.txt', 'w') as f:\n",
        "  f.write('Hello Google Drive!')\n",
        "!cat '/gdrive/My Drive/foo.txt'"
      ],
      "execution_count": 2,
      "outputs": [
        {
          "output_type": "stream",
          "text": [
            "Hello Google Drive!"
          ],
          "name": "stdout"
        }
      ]
    },
    {
      "cell_type": "markdown",
      "metadata": {
        "id": "GDkkYsmqOIpZ",
        "colab_type": "text"
      },
      "source": [
        "# Linear Discriminant Analysis (LDA)\n",
        "\n",
        "The PCA encountered in the previous exercise can be viewed as a dimensionality reduction scheme, projecting onto the directions with maximal variance.\n",
        "\n",
        "LDA is also a dimensionality reduction scheme but operates on a very different principle. Now we are given data that belongs to different classes. We are given both the data value $x$ and a class label $y$ If we have $k$ classes then $y$ will take on $k$ labels, in Python typicall the values 0 through $k-1$. \n",
        "\n",
        "The idea is to project the data onto a lower dimensional space in such a way that maximal *class separation* is achieved in the lower dimensional space.\n",
        "\n",
        "You can learn more about the scikit-learn implementation at http://scikit-learn.org/stable/modules/generated/sklearn.lda.LDA.html\n",
        "\n",
        "You will investigate the difference between  PCA using the wine data set, for more information see  http://archive.ics.uci.edu/ml/datasets/Wine Since the wine dataset is 13 dimensional the difference between PCA and LDA is more pronounced than say, with the Iris data set. \n",
        "\n",
        "We project down to 2 dimensions for easy visualization. In fact, since there are only 3 classes, one does not retain any more information by using higher dimensions.\n"
      ]
    },
    {
      "cell_type": "markdown",
      "metadata": {
        "id": "CnW0nT2GOIpa",
        "colab_type": "text"
      },
      "source": [
        "## Import packages"
      ]
    },
    {
      "cell_type": "code",
      "metadata": {
        "id": "W0ae84yEOIpb",
        "colab_type": "code",
        "colab": {}
      },
      "source": [
        "%matplotlib inline\n",
        "%load_ext autoreload\n",
        "%autoreload 2\n",
        "\n",
        "import os\n",
        "import numpy as np\n",
        "from matplotlib import pylab as plt\n",
        "from sklearn.decomposition import PCA\n",
        "from sklearn.discriminant_analysis import LinearDiscriminantAnalysis as LDA\n",
        "\n",
        "# Import different modules for using with the notebook\n",
        "from IPython.display import display\n",
        "from IPython.display import Image"
      ],
      "execution_count": 0,
      "outputs": []
    },
    {
      "cell_type": "markdown",
      "metadata": {
        "id": "zoGExP0AOIpf",
        "colab_type": "text"
      },
      "source": [
        "## Simple example\n",
        "\n",
        "As a warmup run the example from the scikit-learn website."
      ]
    },
    {
      "cell_type": "code",
      "metadata": {
        "id": "7-2b8hJhOIpg",
        "colab_type": "code",
        "outputId": "02a5abcc-a4ca-46b3-823b-72a5ed487b84",
        "colab": {
          "base_uri": "https://localhost:8080/",
          "height": 34
        }
      },
      "source": [
        "# Create synthetic data\n",
        "X = np.array([[-1, -1], [-2, -1], [-3, -2], [1, 1], [2, 1], [3, 2]])\n",
        "y = np.array([1, 1, 1, 2, 2, 2])\n",
        "\n",
        "# Instantiate & fit the model: LDA\n",
        "clf = LDA()\n",
        "clf.fit(X, y)\n",
        "\n",
        "print(clf.predict([[-0.8, -1]]))"
      ],
      "execution_count": 4,
      "outputs": [
        {
          "output_type": "stream",
          "text": [
            "[1]\n"
          ],
          "name": "stdout"
        }
      ]
    },
    {
      "cell_type": "markdown",
      "metadata": {
        "id": "U0LjnUFsOIpm",
        "colab_type": "text"
      },
      "source": [
        "## Loading the data\n",
        "\n",
        "Read the data, extract the class labels from the last column, then extract the names of the classes using the convenient `set` function in Python. \n"
      ]
    },
    {
      "cell_type": "code",
      "metadata": {
        "id": "9cuH1DoeP11z",
        "colab_type": "code",
        "colab": {}
      },
      "source": [
        "root = '/gdrive/My Drive/Colab Notebooks/Study/WQU/ML in Finance/CRT_2/LDA Assignment'"
      ],
      "execution_count": 0,
      "outputs": []
    },
    {
      "cell_type": "code",
      "metadata": {
        "id": "oEQaokvLOIpn",
        "colab_type": "code",
        "colab": {}
      },
      "source": [
        "# import training data\n",
        "wine_train = np.loadtxt(os.path.join(root, 'data/wine/wine_train.txt'),delimiter = ',')\n",
        "wine_train_labels = wine_train[:,-1]\n",
        "wine_train_classes = list(set(wine_train_labels))\n",
        "wine_train_classes = np.array(wine_train_classes, dtype=int)\n",
        "wine_train_labels = np.array(wine_train_labels, dtype = int)\n",
        "wine_train = wine_train[:,:-1]\n",
        "\n",
        "# import testing data\n",
        "wine_test = np.loadtxt(os.path.join(root, 'data/wine/wine_test.txt'), delimiter = ',')\n",
        "wine_test_labels = wine_test[:,-1]\n",
        "wine_test_classes = list(set(wine_test_labels))\n",
        "wine_test_classes = np.array(wine_test_classes, dtype=int)\n",
        "wine_test_labels = np.array(wine_test_labels, dtype = int)\n",
        "wine_test = wine_test[:, :-1]"
      ],
      "execution_count": 0,
      "outputs": []
    },
    {
      "cell_type": "markdown",
      "metadata": {
        "id": "tnzN9fe3OIpr",
        "colab_type": "text"
      },
      "source": [
        "---"
      ]
    },
    {
      "cell_type": "markdown",
      "metadata": {
        "id": "b5t-oYkHOIps",
        "colab_type": "text"
      },
      "source": [
        "## PCA\n",
        "\n",
        "### Problem 1: (**5 marks**)\n",
        "\n",
        "Project the data onto 2 PCA components and display the classes of the dimension-reduced data.\n",
        "\n",
        "You should see something like:"
      ]
    },
    {
      "cell_type": "code",
      "metadata": {
        "id": "2AhJ_wRXOIpt",
        "colab_type": "code",
        "colab": {}
      },
      "source": [
        "# Insert code to produce the image below\n",
        "import pandas as pd\n",
        "\n",
        "pca = PCA(n_components=2)\n",
        "principalComponents = pca.fit_transform(wine_train)\n",
        "principalComponents = pca.transform(wine_test)\n",
        "\n",
        "principalDf = pd.DataFrame(data = principalComponents, columns = ['principal component 1', 'principal component 2'])\n",
        "finalDf = pd.concat([principalDf, pd.DataFrame(wine_test_labels)], axis = 1)"
      ],
      "execution_count": 0,
      "outputs": []
    },
    {
      "cell_type": "code",
      "metadata": {
        "id": "zGlnqxnHBjIL",
        "colab_type": "code",
        "outputId": "98feb52b-be6c-4ab1-ec8c-f6cf0eb38d6b",
        "colab": {
          "base_uri": "https://localhost:8080/",
          "height": 293
        }
      },
      "source": [
        "fig = plt.figure(figsize = (6, 4))\n",
        "ax = fig.add_subplot(1,1,1) \n",
        "ax.set_xlabel('Principal Component 1', fontsize = 10)\n",
        "ax.set_ylabel('Principal Component 2', fontsize = 10)\n",
        "ax.set_title('The projection onto 2 PCA components', fontsize = 10)\n",
        "\n",
        "targets = set(finalDf[0])\n",
        "markers = [\"*\", \"o\", \"+\"]\n",
        "colors = ['red', 'green', 'black']\n",
        "\n",
        "for target, marker, color in zip(targets, markers, colors):\n",
        "    indicesToKeep = finalDf[0] == target\n",
        "    ax.scatter(finalDf.loc[indicesToKeep, 'principal component 1'], \\\n",
        "               finalDf.loc[indicesToKeep, 'principal component 2'], \\\n",
        "               marker=marker, color=color)"
      ],
      "execution_count": 8,
      "outputs": [
        {
          "output_type": "display_data",
          "data": {
            "image/png": "[encoded data removed]",
            "text/plain": [
              "<Figure size 432x288 with 1 Axes>"
            ]
          },
          "metadata": {
            "tags": [],
            "needs_background": "light"
          }
        }
      ]
    },
    {
      "cell_type": "code",
      "metadata": {
        "id": "OgxOEkWcOIpw",
        "colab_type": "code",
        "outputId": "0594b1b6-c8c3-491d-c49e-d7e1f9303062",
        "colab": {
          "base_uri": "https://localhost:8080/",
          "height": 287
        }
      },
      "source": [
        "display(Image(filename=os.path.join(root, 'Wine_PCA.png')))"
      ],
      "execution_count": 9,
      "outputs": [
        {
          "output_type": "display_data",
          "data": {
            "image/png": "[encoded data removed]",
            "text/plain": [
              "<IPython.core.display.Image object>"
            ]
          },
          "metadata": {
            "tags": []
          }
        }
      ]
    },
    {
      "cell_type": "markdown",
      "metadata": {
        "id": "7Gs_MK69OIp1",
        "colab_type": "text"
      },
      "source": [
        "## LDA\n",
        "\n",
        "### Problem 2:(**5 marks**)\n",
        "\n",
        "Fit an LDA model to the data, using 2 components and display the different classes of the projected data.\n",
        "\n",
        "You should see: "
      ]
    },
    {
      "cell_type": "code",
      "metadata": {
        "id": "TPtf5FKmOIp1",
        "colab_type": "code",
        "colab": {}
      },
      "source": [
        "# Insert code to produce the image below\n",
        "\n",
        "#scaler = StandardScaler()#instantiate\n",
        "#X_scaled = scaler.fit_transform(wine_train.data)\n",
        "\n",
        "lda = LDA(n_components = 2)\n",
        "wine_train_lda = lda.fit_transform(wine_train, wine_train_labels)\n",
        "wine_test_lda = lda.transform(wine_test)\n",
        "\n",
        "principalDf = pd.DataFrame(data = wine_test_lda, columns = ['principal component 1', 'principal component 2'])\n",
        "finalDf = pd.concat([principalDf, pd.DataFrame(wine_test_labels)], axis = 1)"
      ],
      "execution_count": 0,
      "outputs": []
    },
    {
      "cell_type": "code",
      "metadata": {
        "id": "7bO5LSR7ItkD",
        "colab_type": "code",
        "outputId": "2ca38365-ca93-449d-ecad-7ea48b07df4d",
        "colab": {
          "base_uri": "https://localhost:8080/",
          "height": 293
        }
      },
      "source": [
        "fig = plt.figure(figsize = (6, 4))\n",
        "ax = fig.add_subplot(1,1,1) \n",
        "ax.set_xlabel('Principal Component 1', fontsize = 10)\n",
        "ax.set_ylabel('Principal Component 2', fontsize = 10)\n",
        "ax.set_title('Transformation of test data, 2 LDA components', fontsize = 10)\n",
        "\n",
        "targets = set(finalDf[0])\n",
        "markers = [\"*\", \"o\", \"+\"]\n",
        "colors = ['red', 'green', 'black']\n",
        "\n",
        "for target, marker, color in zip(targets, markers, colors):\n",
        "    indicesToKeep = finalDf[0] == target\n",
        "    ax.scatter(finalDf.loc[indicesToKeep, 'principal component 1'], \\\n",
        "               finalDf.loc[indicesToKeep, 'principal component 2'], \\\n",
        "               marker=marker, color=color)"
      ],
      "execution_count": 11,
      "outputs": [
        {
          "output_type": "display_data",
          "data": {
            "image/png": "[encoded data removed]",
            "text/plain": [
              "<Figure size 432x288 with 1 Axes>"
            ]
          },
          "metadata": {
            "tags": [],
            "needs_background": "light"
          }
        }
      ]
    },
    {
      "cell_type": "code",
      "metadata": {
        "id": "-fMmAIeyOIp5",
        "colab_type": "code",
        "outputId": "2f3560b8-3934-4eb8-de50-55f3824db970",
        "colab": {
          "base_uri": "https://localhost:8080/",
          "height": 291
        }
      },
      "source": [
        "display(Image(filename=os.path.join(root, 'LDA_pr.png')))"
      ],
      "execution_count": 12,
      "outputs": [
        {
          "output_type": "display_data",
          "data": {
            "image/png": "[encoded data removed]",
            "text/plain": [
              "<IPython.core.display.Image object>"
            ]
          },
          "metadata": {
            "tags": []
          }
        }
      ]
    },
    {
      "cell_type": "markdown",
      "metadata": {
        "id": "9SgA2OjAOIp8",
        "colab_type": "text"
      },
      "source": [
        "There should be no doubt that the LDA projection is much better at preserving the class structure."
      ]
    }
  ]
}